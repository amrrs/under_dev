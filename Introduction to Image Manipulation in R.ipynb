{
 "cells": [
  {
   "cell_type": "markdown",
   "metadata": {},
   "source": [
    "## Introduction to Image Manipulation in R"
   ]
  },
  {
   "cell_type": "markdown",
   "metadata": {},
   "source": [
    "With the rise of Smartphone and Social Media usage, Data shared across the Internet have become more of unstructured in the form of Text (Natural Language), Images and Videos. Hence it is important for us to be equipped with  sophisticated tools for such Data Processing and Data Manipulation. \n",
    "\n",
    "**ImageMagick** is one such tool and in fact, one of the most comprehensive open-source image processing library that supports over 200 image file formats (like: png, jpeg, tiff, pdf) and can display, convert and edit raster image and vector image files. Jeroen Ooms has been kind enough to develop an R package, `magick` that wraps the [ImageMagick ST](https://www.imagemagick.org/Magick++/STL.html) library. Thus, R-package `magick` tries to help R users in advanced Image processing (in R). \n",
    "\n",
    "### Installation on Windows and OSX\n",
    "\n",
    "Since `magick` is available on CRAN, installing `magick` is as straightforward as installing any other R-package with `install.packages()`\n"
   ]
  },
  {
   "cell_type": "code",
   "execution_count": null,
   "metadata": {},
   "outputs": [],
   "source": [
    "install.packages('magick')"
   ]
  },
  {
   "cell_type": "markdown",
   "metadata": {},
   "source": [
    "Also, the development version of `magick` is available on `ropensci`'s github repo, hence could be installed with `install_github()` of `devtools` package. "
   ]
  },
  {
   "cell_type": "code",
   "execution_count": null,
   "metadata": {},
   "outputs": [],
   "source": [
    "devtools::install_github(\"ropensci/magick\")"
   ]
  },
  {
   "cell_type": "markdown",
   "metadata": {},
   "source": [
    "Please note that for installing from source (the development version from Github), The destination workstation requires RTools.exe to build the source and also note that the binary CRAN packages work out of the box and have most important features enabled, hence installing from CRAN is preferable. \n",
    "\n",
    "### Installation on Linux"
   ]
  },
  {
   "cell_type": "markdown",
   "metadata": {},
   "source": [
    "On Linux you need to install the ImageMagick++ library: on Debian/Ubuntu this is called [libmagick++-dev](https://packages.debian.org/testing/libmagick++-dev):"
   ]
  },
  {
   "cell_type": "code",
   "execution_count": null,
   "metadata": {},
   "outputs": [],
   "source": [
    "sudo apt-get install libmagick++-dev"
   ]
  },
  {
   "cell_type": "markdown",
   "metadata": {},
   "source": [
    "On Fedora or CentOS/RHEL we need ImageMagick-c++-devel:"
   ]
  },
  {
   "cell_type": "code",
   "execution_count": null,
   "metadata": {},
   "outputs": [],
   "source": [
    "sudo yum install ImageMagick-c++-devel"
   ]
  },
  {
   "cell_type": "markdown",
   "metadata": {},
   "source": [
    "Once the installation is successful, the library `magick` can be loaded into the current R session using `library()` function."
   ]
  },
  {
   "cell_type": "code",
   "execution_count": 2,
   "metadata": {
    "scrolled": false
   },
   "outputs": [
    {
     "name": "stderr",
     "output_type": "stream",
     "text": [
      "Warning message:\n",
      "\"package 'magick' was built under R version 3.4.2\"Linking to ImageMagick 6.9.9.14\n",
      "Enabled features: cairo, freetype, fftw, ghostscript, lcms, pango, rsvg, webp\n",
      "Disabled features: fontconfig, x11\n"
     ]
    }
   ],
   "source": [
    "library(magick)"
   ]
  },
  {
   "cell_type": "markdown",
   "metadata": {},
   "source": [
    "### Reading and Writing Image files \n",
    "\n",
    "`magick` supports reading image files from both the local computer or a url on Internet using `image_read()` function."
   ]
  },
  {
   "cell_type": "code",
   "execution_count": 19,
   "metadata": {
    "scrolled": true
   },
   "outputs": [],
   "source": [
    "#from URL\n",
    "#image_read(\"https://jeroen.github.io/images/frink.png\")\n",
    "#from Local Computer\n",
    "inp_img <- image_read('C:/Users/SA31/Pictures/cat.jpg')"
   ]
  },
  {
   "cell_type": "markdown",
   "metadata": {},
   "source": [
    "Once the image is read into R, the basic information of the image such as *image format*, *dimension* and *file size* can be extracted using `image_info()` function"
   ]
  },
  {
   "cell_type": "code",
   "execution_count": 16,
   "metadata": {
    "scrolled": false
   },
   "outputs": [
    {
     "data": {
      "text/html": [
       "<table>\n",
       "<thead><tr><th scope=col>format</th><th scope=col>width</th><th scope=col>height</th><th scope=col>colorspace</th><th scope=col>filesize</th></tr></thead>\n",
       "<tbody>\n",
       "\t<tr><td>JPEG </td><td>256  </td><td>240  </td><td>sRGB </td><td>18287</td></tr>\n",
       "</tbody>\n",
       "</table>\n"
      ],
      "text/latex": [
       "\\begin{tabular}{r|lllll}\n",
       " format & width & height & colorspace & filesize\\\\\n",
       "\\hline\n",
       "\t JPEG  & 256   & 240   & sRGB  & 18287\\\\\n",
       "\\end{tabular}\n"
      ],
      "text/markdown": [
       "\n",
       "format | width | height | colorspace | filesize | \n",
       "|---|\n",
       "| JPEG  | 256   | 240   | sRGB  | 18287 | \n",
       "\n",
       "\n"
      ],
      "text/plain": [
       "  format width height colorspace filesize\n",
       "1 JPEG   256   240    sRGB       18287   "
      ]
     },
     "metadata": {},
     "output_type": "display_data"
    }
   ],
   "source": [
    "image_info(inp_img)"
   ]
  },
  {
   "cell_type": "markdown",
   "metadata": {},
   "source": [
    "Similar to `image_read()` for reading image files into R, `image_write()` is the function that helps in writing/saving image file of desired image format. The first argument of `image_write()` is the `magick` *image object* into which the `image_read()` output was saved - in our case `inp_img` and the second argument is the *path* along with the file name where the image has be written/saved and the third argument is the image *format* in which the image has to be written/saved - like `png` or `svg`. \n",
    "\n",
    "While `image_write()` can be used for image format conversion - like from `.jpeg` to `.png`, `magick` has got `image_convert()` which also performs the same image conversion but saves the `image` object in the memory (the current session) unlike `image_write()` that writes/saves the image object to an external file. "
   ]
  },
  {
   "cell_type": "code",
   "execution_count": 26,
   "metadata": {},
   "outputs": [
    {
     "data": {
      "text/html": [
       "<table>\n",
       "<thead><tr><th scope=col>format</th><th scope=col>width</th><th scope=col>height</th><th scope=col>colorspace</th><th scope=col>filesize</th></tr></thead>\n",
       "<tbody>\n",
       "\t<tr><td>PNG </td><td>256 </td><td>240 </td><td>sRGB</td><td>0   </td></tr>\n",
       "</tbody>\n",
       "</table>\n"
      ],
      "text/latex": [
       "\\begin{tabular}{r|lllll}\n",
       " format & width & height & colorspace & filesize\\\\\n",
       "\\hline\n",
       "\t PNG  & 256  & 240  & sRGB & 0   \\\\\n",
       "\\end{tabular}\n"
      ],
      "text/markdown": [
       "\n",
       "format | width | height | colorspace | filesize | \n",
       "|---|\n",
       "| PNG  | 256  | 240  | sRGB | 0    | \n",
       "\n",
       "\n"
      ],
      "text/plain": [
       "  format width height colorspace filesize\n",
       "1 PNG    256   240    sRGB       0       "
      ]
     },
     "metadata": {},
     "output_type": "display_data"
    }
   ],
   "source": [
    "#converting the existing jpeg format image into png\n",
    "inp_img_png <- image_convert(inp_img, format = 'png') \n",
    "image_info(inp_img_png)"
   ]
  },
  {
   "cell_type": "markdown",
   "metadata": {},
   "source": [
    "As the above output suggests, `image_convert()` has successfully converted the input `jpeg` formatted image object into `png` format but has saved it in memory (in a new R object `inp_img_png`). And to write the same to an external file, Let us use `image_write()`"
   ]
  },
  {
   "cell_type": "code",
   "execution_count": 28,
   "metadata": {},
   "outputs": [],
   "source": [
    "image_write(inp_img, path = 'C:/Users/SA31/Pictures/cat.png', format = 'png') "
   ]
  },
  {
   "cell_type": "code",
   "execution_count": null,
   "metadata": {},
   "outputs": [],
   "source": []
  }
 ],
 "metadata": {
  "kernelspec": {
   "display_name": "R",
   "language": "R",
   "name": "ir"
  },
  "language_info": {
   "codemirror_mode": "r",
   "file_extension": ".r",
   "mimetype": "text/x-r-source",
   "name": "R",
   "pygments_lexer": "r",
   "version": "3.4.0"
  }
 },
 "nbformat": 4,
 "nbformat_minor": 2
}
